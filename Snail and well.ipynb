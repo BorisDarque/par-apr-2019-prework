{
 "cells": [
  {
   "cell_type": "code",
   "execution_count": null,
   "metadata": {},
   "outputs": [],
   "source": [
    "well_height = 125\n",
    "daily_advance = 30\n",
    "night_retreat = 20\n",
    "daily_progress = daily_advance - night_retreat\n",
    "accumulated_distance = 0\n",
    "days = 0\n",
    "\n",
    "while accumulated_distance < well_height:\n",
    "    if accumulated_distance + daily_advance < well_height:\n",
    "        accumulated_distance += daily_advance\n",
    "        elif accumulated_distance - night_retreat < well_height:\n",
    "            days += 1\n",
    "            accumulated_distance -= night_retreat\n",
    "    else accumulated_distance >= well_height:\n",
    "        print('Days =', days)\n",
    "    \n",
    "        \n",
    "    \n",
    "\n"
   ]
  },
  {
   "cell_type": "code",
   "execution_count": null,
   "metadata": {},
   "outputs": [],
   "source": []
  }
 ],
 "metadata": {
  "kernelspec": {
   "display_name": "Python 3",
   "language": "python",
   "name": "python3"
  },
  "language_info": {
   "codemirror_mode": {
    "name": "ipython",
    "version": 3
   },
   "file_extension": ".py",
   "mimetype": "text/x-python",
   "name": "python",
   "nbconvert_exporter": "python",
   "pygments_lexer": "ipython3",
   "version": "3.7.4"
  }
 },
 "nbformat": 4,
 "nbformat_minor": 2
}

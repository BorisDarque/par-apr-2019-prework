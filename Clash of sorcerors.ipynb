{
 "cells": [
  {
   "cell_type": "code",
   "execution_count": 25,
   "metadata": {},
   "outputs": [
    {
     "name": "stdout",
     "output_type": "stream",
     "text": [
      "Gandalf wins\n"
     ]
    }
   ],
   "source": [
    "gandalf = [10, 11, 13, 30, 22, 11, 10, 33, 22, 22]\n",
    "saruman = [23, 66, 12, 43, 12, 10, 44, 23, 12, 17]\n",
    "clashes = [gandalf_elt - saruman_elt for gandalf_elt, saruman_elt in zip(gandalf, saruman)]\n",
    "Gandalf_wins = 0\n",
    "Saruman_wins = 0\n",
    "Tie = 0\n",
    "\n",
    "for i in clashes:\n",
    "    if i < 0:\n",
    "        Saruman_wins += 1\n",
    "    elif i > 0:\n",
    "        Gandalf_wins += 1\n",
    "    else:\n",
    "        Tie += 1\n",
    "\n",
    "if Gandalf_wins > Saruman_wins:\n",
    "    print(\"Gandalf wins\")\n",
    "elif Saruman_wins > Gandalf_wins:\n",
    "    print(\"Saruman wins\")\n",
    "else:\n",
    "    print(\"Tie\")\n",
    "           "
   ]
  },
  {
   "cell_type": "code",
   "execution_count": null,
   "metadata": {},
   "outputs": [],
   "source": []
  }
 ],
 "metadata": {
  "kernelspec": {
   "display_name": "Python 3",
   "language": "python",
   "name": "python3"
  },
  "language_info": {
   "codemirror_mode": {
    "name": "ipython",
    "version": 3
   },
   "file_extension": ".py",
   "mimetype": "text/x-python",
   "name": "python",
   "nbconvert_exporter": "python",
   "pygments_lexer": "ipython3",
   "version": "3.7.4"
  }
 },
 "nbformat": 4,
 "nbformat_minor": 2
}

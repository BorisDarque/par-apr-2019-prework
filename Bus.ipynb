{
 "cells": [
  {
   "cell_type": "code",
   "execution_count": 43,
   "metadata": {},
   "outputs": [
    {
     "name": "stdout",
     "output_type": "stream",
     "text": [
      "number of stops is: 4\n",
      "[0, 17, 34, 50]\n",
      "Maximum passengers in the bus: 50 passengers\n",
      "Average occupation of the bus 25.25 passengers\n",
      "Standard deviation is: 21.56192632087093\n"
     ]
    }
   ],
   "source": [
    "stops = [(17, 0), (22, 5), (24, 8), (11, 9)]\n",
    "Pin = [0]\n",
    "load_passengers = 0\n",
    "num_stops = 0\n",
    "   \n",
    "for x, y in stops:\n",
    "    load_passengers = load_passengers + x - y\n",
    "    Pin.append(load_passengers)\n",
    "    if load_passengers >= 50:\n",
    "        break\n",
    "for on, off in stops:\n",
    "    load_passengers += on - off\n",
    "    num_stops += 1\n",
    "    \n",
    "avg_Pin = sum(Pin)/len(Pin)\n",
    "\n",
    "import statistics\n",
    "\n",
    "print(\"number of stops is:\", num_stops)    \n",
    "print(Pin)\n",
    "print(\"Maximum passengers in the bus:\", max(Pin), \"passengers\")\n",
    "print(\"Average occupation of the bus\", avg_Pin, \"passengers\")\n",
    "print(\"Standard deviation is:\", statistics.stdev(Pin))\n"
   ]
  },
  {
   "cell_type": "code",
   "execution_count": null,
   "metadata": {},
   "outputs": [],
   "source": []
  }
 ],
 "metadata": {
  "kernelspec": {
   "display_name": "Python 3",
   "language": "python",
   "name": "python3"
  },
  "language_info": {
   "codemirror_mode": {
    "name": "ipython",
    "version": 3
   },
   "file_extension": ".py",
   "mimetype": "text/x-python",
   "name": "python",
   "nbconvert_exporter": "python",
   "pygments_lexer": "ipython3",
   "version": "3.7.4"
  }
 },
 "nbformat": 4,
 "nbformat_minor": 2
}

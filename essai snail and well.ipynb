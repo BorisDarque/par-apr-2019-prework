{
 "cells": [
  {
   "cell_type": "code",
   "execution_count": 16,
   "metadata": {},
   "outputs": [
    {
     "name": "stdout",
     "output_type": "stream",
     "text": [
      "Days = 0\n"
     ]
    }
   ],
   "source": [
    "# Assign problem data to variables with representative names\n",
    "# well height, daily advance, night retreat, accumulated distance\n",
    "well_height=125\n",
    "daily_advance=30\n",
    "night_retreat=-20\n",
    "accumulated_distance=0\n",
    "\n",
    "days=0 # Assign 0 to the variable that represents the solution\n",
    "\n",
    "# Write the code that solves the problem\n",
    "while accumulated_distance<well_height:\n",
    "    if daily_advance<well_height:\n",
    "        accumulated_distance+=daily_advance\n",
    "    elif night_retreat+accumulated_distance<well_height:\n",
    "        accumulated_distance+=night_retreat\n",
    "        days+=1\n",
    "    else:\n",
    "        break\n",
    "\n",
    "# Print the result with print('Days =', days)    \n",
    "print('Days =', days)\n",
    "    \n",
    "\n",
    "\n",
    "\n"
   ]
  },
  {
   "cell_type": "code",
   "execution_count": null,
   "metadata": {},
   "outputs": [],
   "source": []
  }
 ],
 "metadata": {
  "kernelspec": {
   "display_name": "Python 3",
   "language": "python",
   "name": "python3"
  },
  "language_info": {
   "codemirror_mode": {
    "name": "ipython",
    "version": 3
   },
   "file_extension": ".py",
   "mimetype": "text/x-python",
   "name": "python",
   "nbconvert_exporter": "python",
   "pygments_lexer": "ipython3",
   "version": "3.7.3"
  }
 },
 "nbformat": 4,
 "nbformat_minor": 2
}

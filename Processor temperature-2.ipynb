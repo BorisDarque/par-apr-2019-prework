{
 "cells": [
  {
   "cell_type": "code",
   "execution_count": 102,
   "metadata": {},
   "outputs": [
    {
     "name": "stdout",
     "output_type": "stream",
     "text": [
      "0\n",
      "83\n",
      "[70, 76, 80, 80, 83, 79]\n",
      "58.833333333333336\n",
      "62.0\n",
      "[33, 66, 65, 62, 59, 60, 62, 64, 70, 76, 80, 69, 80, 83, 68, 79, 61, 53, 50, 49, 53, 48, 45, 39]\n",
      "[91.4, 150.8, 149.0, 143.6, 138.2, 140.0, 143.6, 147.2, 158.0, 168.8, 176.0, 156.2, 176.0, 181.4, 154.4, 174.2, 141.8, 127.4, 122.0, 120.2, 127.4, 118.4, 113.0, 102.2]\n",
      "True\n",
      "Temperature was 70°C or higher at 8 o'clock.\n",
      "Temperature was 70°C or higher at 9 o'clock.\n",
      "Temperature was 70°C or higher at 10 o'clock.\n",
      "Temperature was 70°C or higher at 10 o'clock.\n",
      "Temperature was 70°C or higher at 13 o'clock.\n",
      "Temperature was 70°C or higher at 15 o'clock.\n",
      "Temperature was 70°C or higher at 8 o'clock.\n",
      "Temperature was 70°C or higher at 9 o'clock.\n",
      "Temperature was 70°C or higher at 10 o'clock.\n",
      "Temperature was 70°C or higher at 12 o'clock.\n",
      "Temperature was 70°C or higher at 13 o'clock.\n",
      "Temperature was 70°C or higher at 15 o'clock.\n",
      "61.416666666666664\n",
      "142.55\n",
      "13.331612207755333\n",
      "23.9969019739596\n"
     ]
    }
   ],
   "source": [
    "temperatures_C = [33,66,65,0,59,60,62,64,70,76,80,69,80,83,68,79,61,53,50,49,53,48,45,39]\n",
    "print(min(temperatures_C))\n",
    "print(max(temperatures_C))\n",
    "\n",
    "hight_temperatures = [] #list of t° equal or above 70°C\n",
    "\n",
    "for i in temperatures_C:\n",
    "    if i >= 70:\n",
    "        hight_temperatures.append(i)\n",
    "        \n",
    "print(hight_temperatures)\n",
    "\n",
    "print(sum(temperatures_C)/len(temperatures_C))\n",
    "\n",
    "print((temperatures_C[2] + temperatures_C[4])/2) #to get a value that can be used, I calculate the mean between temperatures taken at 02:00 and 04:00\n",
    "\n",
    "temperatures_C[3]= 62\n",
    "\n",
    "print(temperatures_C)\n",
    "\n",
    "temperatures_F = []\n",
    "\n",
    "for i in temperatures_C:\n",
    "    temperatures_F.append((i * 9 /5) + 32)\n",
    "    \n",
    "print(temperatures_F) #list of temperatures in farenheit\n",
    "    \n",
    "print(\"True\")    #the max temperature is 82°C, therefore I would change the cooling device.\n",
    "        \n",
    "hour_hot = []\n",
    "for i in enumerate(temperatures_C):\n",
    "    hour_hot.append(i)   \n",
    "\n",
    "for x, y in hour_hot:\n",
    "    if y >= 70:\n",
    "        print(\"Temperature was 70°C or higher at\", x, \"o'clock.\")\n",
    "        \n",
    "import statistics\n",
    "        \n",
    "print(statistics.mean(temperatures_C))\n",
    "\n",
    "print(statistics.mean(temperatures_F)) # which relates to mean in °C by convertion: multiply by 9/5 and add 32\n",
    "\n",
    "print(statistics.stdev(temperatures_C))\n",
    "\n",
    "print(statistics.stdev(temperatures_F)) #relates with stdev in °C by multipying by 0.556, as convertion formula is C° = 0.556F° - 17.778\n",
    "\n",
    "\n"
   ]
  },
  {
   "cell_type": "code",
   "execution_count": null,
   "metadata": {},
   "outputs": [],
   "source": []
  }
 ],
 "metadata": {
  "kernelspec": {
   "display_name": "Python 3",
   "language": "python",
   "name": "python3"
  },
  "language_info": {
   "codemirror_mode": {
    "name": "ipython",
    "version": 3
   },
   "file_extension": ".py",
   "mimetype": "text/x-python",
   "name": "python",
   "nbconvert_exporter": "python",
   "pygments_lexer": "ipython3",
   "version": "3.7.4"
  }
 },
 "nbformat": 4,
 "nbformat_minor": 2
}

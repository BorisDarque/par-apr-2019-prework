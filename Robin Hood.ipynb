{
 "cells": [
  {
   "cell_type": "code",
   "execution_count": 39,
   "metadata": {},
   "outputs": [
    {
     "name": "stdout",
     "output_type": "stream",
     "text": [
      "Robin Hood has hit an arrow with a second arrow 5 times.\n",
      "Arrows in Q1: 10\n",
      "Arrows in Q2: 6\n",
      "Arrows in Q3: 2\n",
      "Arrows in Q4: 2\n",
      "Minimum distance from the center is 2.0\n"
     ]
    }
   ],
   "source": [
    "points = [(4, 5), (0, 2), (4, 7), (1, -3), (3, -2), (4, 5), (3, 2), (5, 7), (-5, 7), (2, 2), (-4, 5), (0, -2), (-4, 7), (-1, 3), (-3, 2), (-4, -5), (-3, 2), (5, 7), (5, 7), (2, 2), (9, 9), (-8, -9)]\n",
    "total_shots = len(points)\n",
    "different_shots = len(set(points))\n",
    "same_shots = total_shots - different_shots\n",
    "print(\"Robin Hood has hit an arrow with a second arrow\", same_shots, \"times.\")\n",
    "\n",
    "Q1 = 0\n",
    "Q2 = 0\n",
    "Q3 = 0\n",
    "Q4 = 0\n",
    "\n",
    "import math\n",
    "\n",
    "for x, y in points:\n",
    "    if x > 0 and y > 0:\n",
    "        Q1 += 1\n",
    "    elif x < 0 and y > 0:\n",
    "        Q2 += 1\n",
    "    elif x < 0 and y < 0:\n",
    "        Q3 += 1\n",
    "    elif x > 0 and y < 0:\n",
    "        Q4 += 1\n",
    "                \n",
    "print(\"Arrows in Q1:\", Q1)\n",
    "print(\"Arrows in Q2:\", Q2)\n",
    "print(\"Arrows in Q3:\", Q3)\n",
    "print(\"Arrows in Q4:\", Q4)\n",
    "\n",
    "from math import sqrt\n",
    "\n",
    "Dis_center = [] #new list that will give distance from the center of all points in points list.\n",
    "Distance = 0 #will measure the distance of each point to the center\n",
    "\n",
    "for x, y in points:\n",
    "    Distance = sqrt((y*y)+(x*x))\n",
    "    Dis_center.append(Distance)\n",
    "\n",
    "print(\"Minimum distance from the center is\", min(Dis_center))\n",
    "\n",
    "\n",
    "            "
   ]
  },
  {
   "cell_type": "code",
   "execution_count": null,
   "metadata": {},
   "outputs": [],
   "source": []
  }
 ],
 "metadata": {
  "kernelspec": {
   "display_name": "Python 3",
   "language": "python",
   "name": "python3"
  },
  "language_info": {
   "codemirror_mode": {
    "name": "ipython",
    "version": 3
   },
   "file_extension": ".py",
   "mimetype": "text/x-python",
   "name": "python",
   "nbconvert_exporter": "python",
   "pygments_lexer": "ipython3",
   "version": "3.7.4"
  }
 },
 "nbformat": 4,
 "nbformat_minor": 2
}
